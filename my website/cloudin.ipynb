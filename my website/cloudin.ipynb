{
 "cells": [
  {
   "cell_type": "code",
   "execution_count": 43,
   "id": "d529e628-d557-4102-942e-65ccef7b064d",
   "metadata": {},
   "outputs": [
    {
     "name": "stdout",
     "output_type": "stream",
     "text": [
      "Accuracy: 0.9257425742574258\n",
      "              precision    recall  f1-score   support\n",
      "\n",
      "           0       0.98      0.87      0.92        98\n",
      "           1       0.89      0.98      0.93       104\n",
      "\n",
      "    accuracy                           0.93       202\n",
      "   macro avg       0.93      0.92      0.93       202\n",
      "weighted avg       0.93      0.93      0.93       202\n",
      "\n"
     ]
    },
    {
     "name": "stdin",
     "output_type": "stream",
     "text": [
      "Enter text to test sensitivity:  password\n"
     ]
    },
    {
     "name": "stdout",
     "output_type": "stream",
     "text": [
      "The text is predicted as Sensitive.\n",
      "Encrypted text (to be sent to the cloud): b'gAAAAABnKhmhWseLSxcI88pgIkwCcs1E7JbGQuxln6v4Mkmh__rpUYH2u5qeqZXrRKo6YctFI3azNeBpiuhZObSUhGDCor3OAQ=='\n"
     ]
    }
   ],
   "source": [
    "import pandas as pd\n",
    "from sklearn.model_selection import train_test_split\n",
    "from sklearn.feature_extraction.text import TfidfVectorizer\n",
    "from sklearn.linear_model import LogisticRegression\n",
    "from sklearn.metrics import accuracy_score, classification_report\n",
    "from cryptography.fernet import Fernet\n",
    "import joblib\n",
    "\n",
    "# Load the dataset\n",
    "file_path = r\"C:\\Users\\DELL\\Desktop\\ai\\llllllllll\\dataset of sensitive and not sensitive data.xlsx\"\n",
    "data = pd.read_excel(file_path)\n",
    "\n",
    "# Data Preprocessing\n",
    "X = data['Data']  # Text data\n",
    "y = data['Label']  # Labels\n",
    "\n",
    "# Convert labels to binary format (Sensitive=1, Non-Sensitive=0)\n",
    "y = y.apply(lambda x: 1 if x == 'Sensitive' else 0)\n",
    "# Convert all entries in 'Data' to strings\n",
    "X = data['Data'].astype(str)  # Ensure all data is in string format\n",
    "y = data['Label'].apply(lambda x: 1 if x == 'Sensitive' else 0)  # Convert labels to binary format\n",
    "\n",
    "# Split data into training and testing sets\n",
    "X_train, X_test, y_train, y_test = train_test_split(X, y, test_size=0.2, random_state=42)\n",
    "\n",
    "# Vectorize the text data using TF-IDF\n",
    "vectorizer = TfidfVectorizer()\n",
    "X_train_tfidf = vectorizer.fit_transform(X_train)\n",
    "X_test_tfidf = vectorizer.transform(X_test)\n",
    "\n",
    "# Train a logistic regression model\n",
    "model = LogisticRegression()\n",
    "model.fit(X_train_tfidf, y_train)\n",
    "\n",
    "# Evaluate the model\n",
    "y_pred = model.predict(X_test_tfidf)\n",
    "print(\"Accuracy:\", accuracy_score(y_test, y_pred))\n",
    "print(classification_report(y_test, y_pred))\n",
    "\n",
    "# Save the model and vectorizer for later use\n",
    "joblib.dump(model, \"sensitivity_model.pkl\")\n",
    "joblib.dump(vectorizer, \"tfidf_vectorizer.pkl\")\n",
    "\n",
    "# Encryption setup\n",
    "key = Fernet.generate_key()\n",
    "cipher_suite = Fernet(key)\n",
    "\n",
    "# Function to test new input\n",
    "def predict_and_encrypt(text):\n",
    "    # Load model and vectorizer\n",
    "    model = joblib.load(\"sensitivity_model.pkl\")\n",
    "    vectorizer = joblib.load(\"tfidf_vectorizer.pkl\")\n",
    "    \n",
    "    # Preprocess the text input\n",
    "    text_tfidf = vectorizer.transform([text])\n",
    "    \n",
    "    # Predict sensitivity\n",
    "    prediction = model.predict(text_tfidf)[0]\n",
    "    \n",
    "    if prediction == 1:\n",
    "        print(\"The text is predicted as Sensitive.\")\n",
    "        encrypted_text = cipher_suite.encrypt(text.encode())\n",
    "        print(\"Encrypted text (to be sent to the cloud):\", encrypted_text)\n",
    "        # Here you could add functionality to send to the cloud\n",
    "    else:\n",
    "        print(\"The text is predicted as Non-Sensitive.\")\n",
    "\n",
    "# Test the function with an input\n",
    "test_text = input(\"Enter text to test sensitivity: \")\n",
    "predict_and_encrypt(test_text)\n"
   ]
  },
  {
   "cell_type": "code",
   "execution_count": null,
   "id": "14f9f339-843e-47bc-ac4e-66a9e8728d46",
   "metadata": {},
   "outputs": [],
   "source": []
  }
 ],
 "metadata": {
  "kernelspec": {
   "display_name": "Python 3 (ipykernel)",
   "language": "python",
   "name": "python3"
  },
  "language_info": {
   "codemirror_mode": {
    "name": "ipython",
    "version": 3
   },
   "file_extension": ".py",
   "mimetype": "text/x-python",
   "name": "python",
   "nbconvert_exporter": "python",
   "pygments_lexer": "ipython3",
   "version": "3.12.4"
  }
 },
 "nbformat": 4,
 "nbformat_minor": 5
}
